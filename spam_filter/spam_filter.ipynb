{
  "cells": [
    {
      "cell_type": "code",
      "execution_count": 142,
      "metadata": {
        "id": "gh52qDxwGEYI"
      },
      "outputs": [],
      "source": [
        "import numpy as np\n",
        "import pandas as pd\n",
        "import string\n",
        "from sklearn.model_selection import train_test_split"
      ]
    },
    {
      "cell_type": "code",
      "execution_count": 143,
      "metadata": {},
      "outputs": [
        {
          "data": {
            "text/html": [
              "<div>\n",
              "<style scoped>\n",
              "    .dataframe tbody tr th:only-of-type {\n",
              "        vertical-align: middle;\n",
              "    }\n",
              "\n",
              "    .dataframe tbody tr th {\n",
              "        vertical-align: top;\n",
              "    }\n",
              "\n",
              "    .dataframe thead th {\n",
              "        text-align: right;\n",
              "    }\n",
              "</style>\n",
              "<table border=\"1\" class=\"dataframe\">\n",
              "  <thead>\n",
              "    <tr style=\"text-align: right;\">\n",
              "      <th></th>\n",
              "      <th>label</th>\n",
              "      <th>text</th>\n",
              "    </tr>\n",
              "  </thead>\n",
              "  <tbody>\n",
              "    <tr>\n",
              "      <th>0</th>\n",
              "      <td>ham</td>\n",
              "      <td>Subject: enron methanol ; meter # : 988291\\r\\n...</td>\n",
              "    </tr>\n",
              "    <tr>\n",
              "      <th>1</th>\n",
              "      <td>ham</td>\n",
              "      <td>Subject: hpl nom for january 9 , 2001\\r\\n( see...</td>\n",
              "    </tr>\n",
              "    <tr>\n",
              "      <th>2</th>\n",
              "      <td>ham</td>\n",
              "      <td>Subject: neon retreat\\r\\nho ho ho , we ' re ar...</td>\n",
              "    </tr>\n",
              "    <tr>\n",
              "      <th>3</th>\n",
              "      <td>spam</td>\n",
              "      <td>Subject: photoshop , windows , office . cheap ...</td>\n",
              "    </tr>\n",
              "    <tr>\n",
              "      <th>4</th>\n",
              "      <td>ham</td>\n",
              "      <td>Subject: re : indian springs\\r\\nthis deal is t...</td>\n",
              "    </tr>\n",
              "  </tbody>\n",
              "</table>\n",
              "</div>"
            ],
            "text/plain": [
              "  label                                               text\n",
              "0   ham  Subject: enron methanol ; meter # : 988291\\r\\n...\n",
              "1   ham  Subject: hpl nom for january 9 , 2001\\r\\n( see...\n",
              "2   ham  Subject: neon retreat\\r\\nho ho ho , we ' re ar...\n",
              "3  spam  Subject: photoshop , windows , office . cheap ...\n",
              "4   ham  Subject: re : indian springs\\r\\nthis deal is t..."
            ]
          },
          "execution_count": 143,
          "metadata": {},
          "output_type": "execute_result"
        }
      ],
      "source": [
        "df = pd.read_csv('spam_ham_dataset.csv', on_bad_lines='skip')\n",
        "df = df.drop(['Unnamed: 0', 'label_num'], axis=1)\n",
        "df.head()"
      ]
    },
    {
      "cell_type": "code",
      "execution_count": 144,
      "metadata": {},
      "outputs": [
        {
          "data": {
            "text/plain": [
              "'Subject: photoshop , windows , office . cheap . main trending\\r\\nabasements darer prudently fortuitous undergone\\r\\nlighthearted charm orinoco taster\\r\\nrailroad affluent pornographic cuvier\\r\\nirvin parkhouse blameworthy chlorophyll\\r\\nrobed diagrammatic fogarty clears bayda\\r\\ninconveniencing managing represented smartness hashish\\r\\nacademies shareholders unload badness\\r\\ndanielson pure caffein\\r\\nspaniard chargeable levin\\r\\n'"
            ]
          },
          "execution_count": 144,
          "metadata": {},
          "output_type": "execute_result"
        }
      ],
      "source": [
        "df['text'][3]"
      ]
    },
    {
      "cell_type": "code",
      "execution_count": 145,
      "metadata": {},
      "outputs": [
        {
          "data": {
            "text/html": [
              "<div>\n",
              "<style scoped>\n",
              "    .dataframe tbody tr th:only-of-type {\n",
              "        vertical-align: middle;\n",
              "    }\n",
              "\n",
              "    .dataframe tbody tr th {\n",
              "        vertical-align: top;\n",
              "    }\n",
              "\n",
              "    .dataframe thead th {\n",
              "        text-align: right;\n",
              "    }\n",
              "</style>\n",
              "<table border=\"1\" class=\"dataframe\">\n",
              "  <thead>\n",
              "    <tr style=\"text-align: right;\">\n",
              "      <th></th>\n",
              "      <th>label</th>\n",
              "      <th>text</th>\n",
              "    </tr>\n",
              "  </thead>\n",
              "  <tbody>\n",
              "    <tr>\n",
              "      <th>0</th>\n",
              "      <td>ham</td>\n",
              "      <td>[preliminary, gas, from, asap, provided, for, ...</td>\n",
              "    </tr>\n",
              "    <tr>\n",
              "      <th>1</th>\n",
              "      <td>ham</td>\n",
              "      <td>[for, xls, hpl, hplnol, file, attached, januar...</td>\n",
              "    </tr>\n",
              "    <tr>\n",
              "      <th>2</th>\n",
              "      <td>ham</td>\n",
              "      <td>[conference, brad, prevail, outside, years, we...</td>\n",
              "    </tr>\n",
              "    <tr>\n",
              "      <th>3</th>\n",
              "      <td>spam</td>\n",
              "      <td>[undergone, chlorophyll, photoshop, managing, ...</td>\n",
              "    </tr>\n",
              "    <tr>\n",
              "      <th>4</th>\n",
              "      <td>ham</td>\n",
              "      <td>[need, whether, giving, lets, pvr, associated,...</td>\n",
              "    </tr>\n",
              "  </tbody>\n",
              "</table>\n",
              "</div>"
            ],
            "text/plain": [
              "  label                                               text\n",
              "0   ham  [preliminary, gas, from, asap, provided, for, ...\n",
              "1   ham  [for, xls, hpl, hplnol, file, attached, januar...\n",
              "2   ham  [conference, brad, prevail, outside, years, we...\n",
              "3  spam  [undergone, chlorophyll, photoshop, managing, ...\n",
              "4   ham  [need, whether, giving, lets, pvr, associated,..."
            ]
          },
          "execution_count": 145,
          "metadata": {},
          "output_type": "execute_result"
        }
      ],
      "source": [
        "def clean_text(s): \n",
        "    s = s.replace(\"Subject: \", \"\")\n",
        "    for cs in s:\n",
        "        if  not cs in string.ascii_letters:\n",
        "            s = s.replace(cs, ' ')\n",
        "    return s.rstrip('\\r\\n')\n",
        "\n",
        "def remove_little(s): \n",
        "    words = s.split()\n",
        "    words_clean = [w for w in words if len(w) > 2]\n",
        "    resultString = ' '.join(words_clean)\n",
        "    return resultString\n",
        "\n",
        "def split_text(s):\n",
        "    words = s.split()\n",
        "    return list(set(words))\n",
        "\n",
        "df['text'] = df['text'].apply(lambda x: clean_text(x))\n",
        "df['text'] = df['text'].apply(lambda x: remove_little(x))\n",
        "df['text'] = df['text'].apply(lambda x: split_text(x))\n",
        "\n",
        "df.head()"
      ]
    },
    {
      "cell_type": "code",
      "execution_count": 146,
      "metadata": {
        "id": "oyAJYOaeGncb"
      },
      "outputs": [
        {
          "name": "stdout",
          "output_type": "stream",
          "text": [
            "train: 4653, test: 518\n"
          ]
        }
      ],
      "source": [
        "trainset, testset = train_test_split(df, test_size=0.1)\n",
        "trainsize = len(trainset)\n",
        "testsize = len(testset)\n",
        "\n",
        "print(f\"train: {trainsize}, test: {testsize}\")"
      ]
    },
    {
      "cell_type": "code",
      "execution_count": 147,
      "metadata": {},
      "outputs": [
        {
          "data": {
            "text/html": [
              "<div>\n",
              "<style scoped>\n",
              "    .dataframe tbody tr th:only-of-type {\n",
              "        vertical-align: middle;\n",
              "    }\n",
              "\n",
              "    .dataframe tbody tr th {\n",
              "        vertical-align: top;\n",
              "    }\n",
              "\n",
              "    .dataframe thead th {\n",
              "        text-align: right;\n",
              "    }\n",
              "</style>\n",
              "<table border=\"1\" class=\"dataframe\">\n",
              "  <thead>\n",
              "    <tr style=\"text-align: right;\">\n",
              "      <th></th>\n",
              "      <th>label</th>\n",
              "      <th>text</th>\n",
              "    </tr>\n",
              "  </thead>\n",
              "  <tbody>\n",
              "    <tr>\n",
              "      <th>1554</th>\n",
              "      <td>spam</td>\n",
              "      <td>[managing, commercial, paste, browser, sale, a...</td>\n",
              "    </tr>\n",
              "    <tr>\n",
              "      <th>2366</th>\n",
              "      <td>ham</td>\n",
              "      <td>[need, these, make, for, one, requests, and, s...</td>\n",
              "    </tr>\n",
              "    <tr>\n",
              "      <th>2401</th>\n",
              "      <td>ham</td>\n",
              "      <td>[these, paste, new, send, inbox, thanks, folde...</td>\n",
              "    </tr>\n",
              "    <tr>\n",
              "      <th>409</th>\n",
              "      <td>ham</td>\n",
              "      <td>[teco, for, enron, hpl, actuals, iferc, novemb...</td>\n",
              "    </tr>\n",
              "    <tr>\n",
              "      <th>2445</th>\n",
              "      <td>spam</td>\n",
              "      <td>[secrets, help, city, brenton, stars, cock, ra...</td>\n",
              "    </tr>\n",
              "  </tbody>\n",
              "</table>\n",
              "</div>"
            ],
            "text/plain": [
              "     label                                               text\n",
              "1554  spam  [managing, commercial, paste, browser, sale, a...\n",
              "2366   ham  [need, these, make, for, one, requests, and, s...\n",
              "2401   ham  [these, paste, new, send, inbox, thanks, folde...\n",
              "409    ham  [teco, for, enron, hpl, actuals, iferc, novemb...\n",
              "2445  spam  [secrets, help, city, brenton, stars, cock, ra..."
            ]
          },
          "execution_count": 147,
          "metadata": {},
          "output_type": "execute_result"
        }
      ],
      "source": [
        "trainset.head()"
      ]
    },
    {
      "cell_type": "code",
      "execution_count": 148,
      "metadata": {},
      "outputs": [],
      "source": [
        "spamset = trainset[trainset['label']=='spam']\n",
        "hamset = trainset[trainset['label']=='ham']\n",
        "\n",
        "p_spam = len(spamset)/len(trainset)\n",
        "p_ham = len(hamset)/len(trainset)"
      ]
    },
    {
      "cell_type": "code",
      "execution_count": 149,
      "metadata": {},
      "outputs": [],
      "source": [
        "vocab = {}\n",
        "def count_words(s, vocab):\n",
        "    for w in s:\n",
        "        if not w in vocab:\n",
        "             vocab[w] = 1\n",
        "        else:\n",
        "             vocab[w] += 1\n",
        "\n",
        "def count_table(df):\n",
        "     vocab = {}\n",
        "     df['text'].apply(lambda x: count_words(x, vocab))\n",
        "     vocab = sorted(vocab.items(), key=lambda x:x[1], reverse=True)\n",
        "     return pd.DataFrame(vocab), set([w for w,_ in vocab])\n",
        "\n",
        "total, vocab = count_table(trainset)\n",
        "spamcount,_ = count_table(spamset)\n",
        "hamcount,_ = count_table(hamset)"
      ]
    },
    {
      "cell_type": "code",
      "execution_count": 150,
      "metadata": {},
      "outputs": [
        {
          "data": {
            "text/html": [
              "<div>\n",
              "<style scoped>\n",
              "    .dataframe tbody tr th:only-of-type {\n",
              "        vertical-align: middle;\n",
              "    }\n",
              "\n",
              "    .dataframe tbody tr th {\n",
              "        vertical-align: top;\n",
              "    }\n",
              "\n",
              "    .dataframe thead th {\n",
              "        text-align: right;\n",
              "    }\n",
              "</style>\n",
              "<table border=\"1\" class=\"dataframe\">\n",
              "  <thead>\n",
              "    <tr style=\"text-align: right;\">\n",
              "      <th></th>\n",
              "      <th>word</th>\n",
              "      <th>total</th>\n",
              "      <th>spam</th>\n",
              "      <th>ham</th>\n",
              "    </tr>\n",
              "  </thead>\n",
              "  <tbody>\n",
              "    <tr>\n",
              "      <th>0</th>\n",
              "      <td>for</td>\n",
              "      <td>3237</td>\n",
              "      <td>730</td>\n",
              "      <td>2507</td>\n",
              "    </tr>\n",
              "    <tr>\n",
              "      <th>1</th>\n",
              "      <td>the</td>\n",
              "      <td>3234</td>\n",
              "      <td>807</td>\n",
              "      <td>2427</td>\n",
              "    </tr>\n",
              "    <tr>\n",
              "      <th>2</th>\n",
              "      <td>and</td>\n",
              "      <td>2532</td>\n",
              "      <td>776</td>\n",
              "      <td>1756</td>\n",
              "    </tr>\n",
              "    <tr>\n",
              "      <th>3</th>\n",
              "      <td>you</td>\n",
              "      <td>2465</td>\n",
              "      <td>774</td>\n",
              "      <td>1691</td>\n",
              "    </tr>\n",
              "    <tr>\n",
              "      <th>4</th>\n",
              "      <td>this</td>\n",
              "      <td>2037</td>\n",
              "      <td>503</td>\n",
              "      <td>1534</td>\n",
              "    </tr>\n",
              "  </tbody>\n",
              "</table>\n",
              "</div>"
            ],
            "text/plain": [
              "   word  total  spam   ham\n",
              "0   for   3237   730  2507\n",
              "1   the   3234   807  2427\n",
              "2   and   2532   776  1756\n",
              "3   you   2465   774  1691\n",
              "4  this   2037   503  1534"
            ]
          },
          "execution_count": 150,
          "metadata": {},
          "output_type": "execute_result"
        }
      ],
      "source": [
        "temp = pd.merge(total, spamcount, on=0, how='outer').fillna(0)\n",
        "count = pd.merge(temp,hamcount,on=0, how='outer').fillna(0)\n",
        "count = count.astype({'1_x':int, '1_y':int, 1:int})\n",
        "count = count.rename(columns={0:'word', '1_x':'total', '1_y':'spam', 1:'ham'})\n",
        "count.head()"
      ]
    },
    {
      "cell_type": "code",
      "execution_count": 151,
      "metadata": {},
      "outputs": [
        {
          "data": {
            "text/html": [
              "<div>\n",
              "<style scoped>\n",
              "    .dataframe tbody tr th:only-of-type {\n",
              "        vertical-align: middle;\n",
              "    }\n",
              "\n",
              "    .dataframe tbody tr th {\n",
              "        vertical-align: top;\n",
              "    }\n",
              "\n",
              "    .dataframe thead th {\n",
              "        text-align: right;\n",
              "    }\n",
              "</style>\n",
              "<table border=\"1\" class=\"dataframe\">\n",
              "  <thead>\n",
              "    <tr style=\"text-align: right;\">\n",
              "      <th></th>\n",
              "      <th>word</th>\n",
              "      <th>total</th>\n",
              "      <th>spam</th>\n",
              "      <th>ham</th>\n",
              "      <th>prob-spam</th>\n",
              "      <th>prob-ham</th>\n",
              "    </tr>\n",
              "  </thead>\n",
              "  <tbody>\n",
              "    <tr>\n",
              "      <th>0</th>\n",
              "      <td>for</td>\n",
              "      <td>3237</td>\n",
              "      <td>730</td>\n",
              "      <td>2507</td>\n",
              "      <td>-0.613446</td>\n",
              "      <td>-0.276556</td>\n",
              "    </tr>\n",
              "    <tr>\n",
              "      <th>1</th>\n",
              "      <td>the</td>\n",
              "      <td>3234</td>\n",
              "      <td>807</td>\n",
              "      <td>2427</td>\n",
              "      <td>-0.513298</td>\n",
              "      <td>-0.308974</td>\n",
              "    </tr>\n",
              "    <tr>\n",
              "      <th>2</th>\n",
              "      <td>and</td>\n",
              "      <td>2532</td>\n",
              "      <td>776</td>\n",
              "      <td>1756</td>\n",
              "      <td>-0.552420</td>\n",
              "      <td>-0.632434</td>\n",
              "    </tr>\n",
              "    <tr>\n",
              "      <th>3</th>\n",
              "      <td>you</td>\n",
              "      <td>2465</td>\n",
              "      <td>774</td>\n",
              "      <td>1691</td>\n",
              "      <td>-0.554997</td>\n",
              "      <td>-0.670130</td>\n",
              "    </tr>\n",
              "    <tr>\n",
              "      <th>4</th>\n",
              "      <td>this</td>\n",
              "      <td>2037</td>\n",
              "      <td>503</td>\n",
              "      <td>1534</td>\n",
              "      <td>-0.985284</td>\n",
              "      <td>-0.767511</td>\n",
              "    </tr>\n",
              "  </tbody>\n",
              "</table>\n",
              "</div>"
            ],
            "text/plain": [
              "   word  total  spam   ham  prob-spam  prob-ham\n",
              "0   for   3237   730  2507  -0.613446 -0.276556\n",
              "1   the   3234   807  2427  -0.513298 -0.308974\n",
              "2   and   2532   776  1756  -0.552420 -0.632434\n",
              "3   you   2465   774  1691  -0.554997 -0.670130\n",
              "4  this   2037   503  1534  -0.985284 -0.767511"
            ]
          },
          "execution_count": 151,
          "metadata": {},
          "output_type": "execute_result"
        }
      ],
      "source": [
        "spamsize = len(spamset)\n",
        "hamsize = len(hamset)\n",
        "\n",
        "count['prob-spam'] = np.log((count['spam']+1)/(spamsize+2))\n",
        "count['prob-ham'] = np.log((count['ham']+1)/(hamsize+2))\n",
        "count.head()"
      ]
    },
    {
      "cell_type": "code",
      "execution_count": 152,
      "metadata": {},
      "outputs": [],
      "source": [
        "# count = count[count['total']>=500]"
      ]
    },
    {
      "cell_type": "code",
      "execution_count": 153,
      "metadata": {},
      "outputs": [
        {
          "data": {
            "text/html": [
              "<div>\n",
              "<style scoped>\n",
              "    .dataframe tbody tr th:only-of-type {\n",
              "        vertical-align: middle;\n",
              "    }\n",
              "\n",
              "    .dataframe tbody tr th {\n",
              "        vertical-align: top;\n",
              "    }\n",
              "\n",
              "    .dataframe thead th {\n",
              "        text-align: right;\n",
              "    }\n",
              "</style>\n",
              "<table border=\"1\" class=\"dataframe\">\n",
              "  <thead>\n",
              "    <tr style=\"text-align: right;\">\n",
              "      <th></th>\n",
              "      <th>label</th>\n",
              "      <th>text</th>\n",
              "    </tr>\n",
              "  </thead>\n",
              "  <tbody>\n",
              "    <tr>\n",
              "      <th>1964</th>\n",
              "      <td>ham</td>\n",
              "      <td>[jpanos, all, need, jason, from, for, and, gre...</td>\n",
              "    </tr>\n",
              "    <tr>\n",
              "      <th>3889</th>\n",
              "      <td>spam</td>\n",
              "      <td>[strategy, first, software, dedicated, line, p...</td>\n",
              "    </tr>\n",
              "    <tr>\n",
              "      <th>17</th>\n",
              "      <td>ham</td>\n",
              "      <td>[first, morris, make, from, and, rodriguez, br...</td>\n",
              "    </tr>\n",
              "    <tr>\n",
              "      <th>499</th>\n",
              "      <td>spam</td>\n",
              "      <td>[more, injections]</td>\n",
              "    </tr>\n",
              "    <tr>\n",
              "      <th>4310</th>\n",
              "      <td>ham</td>\n",
              "      <td>[for, xls, hpl, attached, hplno, march, file, ...</td>\n",
              "    </tr>\n",
              "  </tbody>\n",
              "</table>\n",
              "</div>"
            ],
            "text/plain": [
              "     label                                               text\n",
              "1964   ham  [jpanos, all, need, jason, from, for, and, gre...\n",
              "3889  spam  [strategy, first, software, dedicated, line, p...\n",
              "17     ham  [first, morris, make, from, and, rodriguez, br...\n",
              "499   spam                                 [more, injections]\n",
              "4310   ham  [for, xls, hpl, attached, hplno, march, file, ..."
            ]
          },
          "execution_count": 153,
          "metadata": {},
          "output_type": "execute_result"
        }
      ],
      "source": [
        "testset.head()"
      ]
    },
    {
      "cell_type": "code",
      "execution_count": 154,
      "metadata": {},
      "outputs": [
        {
          "data": {
            "text/plain": [
              "518"
            ]
          },
          "execution_count": 154,
          "metadata": {},
          "output_type": "execute_result"
        }
      ],
      "source": [
        "len(testset)"
      ]
    },
    {
      "cell_type": "code",
      "execution_count": 155,
      "metadata": {},
      "outputs": [],
      "source": [
        "def predict(s):\n",
        "    ps, ph = np.log(p_spam), np.log(p_ham)\n",
        "    for w in s:\n",
        "        if w not in vocab:\n",
        "            continue\n",
        "        \n",
        "        ps += count[count['word']==w]['prob-spam'].values[0]\n",
        "        ph += count[count['word']==w]['prob-ham'].values[0]\n",
        "\n",
        "    if ps > ph:\n",
        "        return 'spam'\n",
        "    else: return 'ham'"
      ]
    },
    {
      "cell_type": "code",
      "execution_count": 156,
      "metadata": {},
      "outputs": [
        {
          "data": {
            "text/html": [
              "<div>\n",
              "<style scoped>\n",
              "    .dataframe tbody tr th:only-of-type {\n",
              "        vertical-align: middle;\n",
              "    }\n",
              "\n",
              "    .dataframe tbody tr th {\n",
              "        vertical-align: top;\n",
              "    }\n",
              "\n",
              "    .dataframe thead th {\n",
              "        text-align: right;\n",
              "    }\n",
              "</style>\n",
              "<table border=\"1\" class=\"dataframe\">\n",
              "  <thead>\n",
              "    <tr style=\"text-align: right;\">\n",
              "      <th></th>\n",
              "      <th>label</th>\n",
              "      <th>text</th>\n",
              "      <th>y_pred</th>\n",
              "      <th>correct</th>\n",
              "    </tr>\n",
              "  </thead>\n",
              "  <tbody>\n",
              "    <tr>\n",
              "      <th>1964</th>\n",
              "      <td>ham</td>\n",
              "      <td>[jpanos, all, need, jason, from, for, and, gre...</td>\n",
              "      <td>ham</td>\n",
              "      <td>1</td>\n",
              "    </tr>\n",
              "    <tr>\n",
              "      <th>3889</th>\n",
              "      <td>spam</td>\n",
              "      <td>[strategy, first, software, dedicated, line, p...</td>\n",
              "      <td>spam</td>\n",
              "      <td>1</td>\n",
              "    </tr>\n",
              "    <tr>\n",
              "      <th>17</th>\n",
              "      <td>ham</td>\n",
              "      <td>[first, morris, make, from, and, rodriguez, br...</td>\n",
              "      <td>ham</td>\n",
              "      <td>1</td>\n",
              "    </tr>\n",
              "    <tr>\n",
              "      <th>499</th>\n",
              "      <td>spam</td>\n",
              "      <td>[more, injections]</td>\n",
              "      <td>spam</td>\n",
              "      <td>1</td>\n",
              "    </tr>\n",
              "    <tr>\n",
              "      <th>4310</th>\n",
              "      <td>ham</td>\n",
              "      <td>[for, xls, hpl, attached, hplno, march, file, ...</td>\n",
              "      <td>ham</td>\n",
              "      <td>1</td>\n",
              "    </tr>\n",
              "  </tbody>\n",
              "</table>\n",
              "</div>"
            ],
            "text/plain": [
              "     label                                               text y_pred  correct\n",
              "1964   ham  [jpanos, all, need, jason, from, for, and, gre...    ham        1\n",
              "3889  spam  [strategy, first, software, dedicated, line, p...   spam        1\n",
              "17     ham  [first, morris, make, from, and, rodriguez, br...    ham        1\n",
              "499   spam                                 [more, injections]   spam        1\n",
              "4310   ham  [for, xls, hpl, attached, hplno, march, file, ...    ham        1"
            ]
          },
          "execution_count": 156,
          "metadata": {},
          "output_type": "execute_result"
        }
      ],
      "source": [
        "testset['y_pred'] = testset['text'].apply(lambda x: predict(x))\n",
        "testset['correct'] = (testset['label']==testset['y_pred']).astype(int)\n",
        "testset.head()"
      ]
    },
    {
      "cell_type": "code",
      "execution_count": 140,
      "metadata": {},
      "outputs": [
        {
          "name": "stdout",
          "output_type": "stream",
          "text": [
            "spam\n",
            "spam\n"
          ]
        }
      ],
      "source": [
        "ex1 = 'click here to earn free credits in your AI course'\n",
        "ex2 = 'hello darkness my old friend, Ive come to talk with you again'\n",
        "\n",
        "print(predict(ex1.split()))\n",
        "print(predict(ex2.split()))"
      ]
    },
    {
      "cell_type": "code",
      "execution_count": null,
      "metadata": {},
      "outputs": [],
      "source": []
    }
  ],
  "metadata": {
    "colab": {
      "provenance": []
    },
    "kernelspec": {
      "display_name": "Python 3",
      "name": "python3"
    },
    "language_info": {
      "codemirror_mode": {
        "name": "ipython",
        "version": 3
      },
      "file_extension": ".py",
      "mimetype": "text/x-python",
      "name": "python",
      "nbconvert_exporter": "python",
      "pygments_lexer": "ipython3",
      "version": "3.9.7"
    }
  },
  "nbformat": 4,
  "nbformat_minor": 0
}
